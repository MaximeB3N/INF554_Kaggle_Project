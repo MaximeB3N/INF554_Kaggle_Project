{
 "cells": [
  {
   "cell_type": "code",
   "execution_count": null,
   "metadata": {},
   "outputs": [],
   "source": [
    "import os\n",
    "import pandas as pd\n",
    "import numpy as np\n",
    "import networkx as nx\n",
    "import matplotlib.pyplot as plt\n",
    "from tqdm import *\n",
    "from scipy import stats\n",
    "\n",
    "from pathlib import Path\n",
    "\n",
    "NathanPath=\"d:\\Documents\\Info\\INF554\\INF554_Kaggle_Project\"\n",
    "NathanPath=\"/users/eleves-a/2019/nathan.peluso/INF554/INF554_Kaggle_Project\""
   ]
  },
  {
   "cell_type": "code",
   "execution_count": null,
   "metadata": {},
   "outputs": [],
   "source": [
    "project_path = str(Path(os.getcwd()).parent.absolute())\n",
    "print(\"Current directory : \" + os.getcwd() + \", Project directory : \" + project_path)"
   ]
  },
  {
   "cell_type": "code",
   "execution_count": null,
   "metadata": {},
   "outputs": [],
   "source": [
    "os.chdir(project_path)\n",
    "os.chdir(NathanPath)"
   ]
  },
  {
   "cell_type": "code",
   "execution_count": null,
   "metadata": {},
   "outputs": [],
   "source": [
    "\n",
    "# Read training data\n",
    "df_train = pd.read_csv('data/train.csv', dtype={'author': np.int64, 'hindex': np.float32})\n",
    "n_train = df_train.shape[0]\n",
    "\n",
    "# Read test data\n",
    "df_test = pd.read_csv('data/test.csv', dtype={'author': np.int64})\n",
    "n_test = df_test.shape[0]\n",
    "\n",
    "with open(\"data/abstracts.txt\", encoding=\"utf8\") as file:\n",
    "    texts = file.readlines()"
   ]
  },
  {
   "cell_type": "markdown",
   "metadata": {},
   "source": [
    "## I) Create indicators (do not rerun)"
   ]
  },
  {
   "cell_type": "code",
   "execution_count": null,
   "metadata": {},
   "outputs": [],
   "source": [
    "# Load the graph\n",
    "G = nx.read_edgelist('data/coauthorship.edgelist', delimiter=' ', nodetype=int)\n",
    "n_nodes = G.number_of_nodes()\n",
    "n_edges = G.number_of_edges() \n",
    "print('Number of nodes:', n_nodes)\n",
    "print('Number of edges:', n_edges)"
   ]
  },
  {
   "cell_type": "code",
   "execution_count": null,
   "metadata": {},
   "outputs": [],
   "source": [
    "nx.set_node_attributes(G,dict(nx.degree(G)),\"degree\")\n",
    "nx.set_node_attributes(G,dict(nx.clustering(G)),\"clustering_coef\")\n",
    "nx.set_node_attributes(G,dict(nx.average_neighbor_degree(G)),\"mean_neighbors_degree\")"
   ]
  },
  {
   "cell_type": "code",
   "execution_count": null,
   "metadata": {},
   "outputs": [],
   "source": [
    "nx.readwrite.graphml.write_graphml(G,'Indicators/graph_with_ind2.xml')"
   ]
  },
  {
   "cell_type": "markdown",
   "metadata": {},
   "source": [
    "## II) Use indicators"
   ]
  },
  {
   "cell_type": "code",
   "execution_count": null,
   "metadata": {},
   "outputs": [],
   "source": [
    "G2=nx.readwrite.graphml.read_graphml('Indicators/graph_with_ind2.xml')"
   ]
  },
  {
   "cell_type": "code",
   "execution_count": null,
   "metadata": {},
   "outputs": [],
   "source": [
    "train_dict=[(a,b) for a,b in np.array(df_train, dtype=np.int64)]\n",
    "id_train=[str(i) for i,_ in train_dict]\n",
    "\n",
    "G_train=G2.subgraph(id_train)\n",
    "print(G_train)\n",
    "\n",
    "h_index_train=[x for _,x in train_dict]\n",
    "degree_train=np.array([d for x,d in G_train.nodes(\"degree\")])\n",
    "clust_coef_train=np.array([d for x,d in G_train.nodes(\"clustering_coef\")])\n",
    "#sq_clust_coef_train=np.array([d for x,d in G_train.nodes(\"sq_clustering_coef\")])\n",
    "neighb_degree_train=np.array([d for x,d in G_train.nodes(\"mean_neighbors_degree\")])\n",
    "\n",
    "def normalize(X):\n",
    "    return (X-np.mean(X))/np.std(X)\n",
    "n_h_index_train=normalize(h_index_train)\n",
    "n_degree_train=normalize(degree_train)\n",
    "n_clust_coef_train=normalize(clust_coef_train)\n",
    "#n_sq_clust_coef_train=normalize(sq_clust_coef_train)\n",
    "n_neighb_degree_train=normalize(neighb_degree_train)"
   ]
  },
  {
   "cell_type": "code",
   "execution_count": null,
   "metadata": {},
   "outputs": [],
   "source": [
    "nx.draw_random(G_train, node_size=10)\n",
    "plt.title(\"Raw graph of train set\")\n",
    "plt.show()"
   ]
  },
  {
   "cell_type": "code",
   "execution_count": null,
   "metadata": {},
   "outputs": [],
   "source": [
    "def cov(X,Y):\n",
    "    return np.mean((X-np.mean(X))*(Y-np.mean(Y)))\n",
    "def corr(X,Y):\n",
    "    return np.sqrt(cov(X,Y))\n",
    "def softmax(X):\n",
    "    return np.exp(X)/(1+np.exp(X))"
   ]
  },
  {
   "cell_type": "code",
   "execution_count": null,
   "metadata": {},
   "outputs": [],
   "source": [
    "chi2_h_degree=corr(n_h_index_train,n_degree_train)\n",
    "chi2_h_clust_coef=corr(n_h_index_train,n_clust_coef_train)\n",
    "#chi2_h_sq_clust_coef=corr(n_h_index_train,n_sq_clust_coef_train)\n",
    "chi2_h_neighb_degree=corr(n_h_index_train,n_neighb_degree_train)\n",
    "chi2_degree_neighb_degree=corr(n_degree_train,n_neighb_degree_train)\n",
    "print(chi2_h_degree,chi2_h_clust_coef, chi2_h_neighb_degree, chi2_degree_neighb_degree)"
   ]
  },
  {
   "cell_type": "markdown",
   "metadata": {},
   "source": [
    "Le h-index est peu corrélé de manière directe au degré et au degré des voisins (meileur h-index, id=2426470670, h-index=187, degré=8 et degré_voisins=11.75)"
   ]
  },
  {
   "cell_type": "code",
   "execution_count": null,
   "metadata": {},
   "outputs": [],
   "source": [
    "colors=[[softmax(n_h_index_train[x]),(1-softmax(n_h_index_train[x])),0] for x in range(len(n_h_index_train))]\n",
    "colors2=[ colors[x] if n_h_index_train[x]>np.mean(n_h_index_train) else [1,1,1] for x in range(len(n_h_index_train))]\n",
    "plt.figure(figsize=(10, 10), dpi=80)\n",
    "plt.scatter(n_neighb_degree_train,clust_coef_train, c=colors, s=1)\n",
    "\n",
    "plt.show()"
   ]
  },
  {
   "cell_type": "markdown",
   "metadata": {},
   "source": [
    "## III) Create author - text dict"
   ]
  },
  {
   "cell_type": "code",
   "execution_count": null,
   "metadata": {},
   "outputs": [],
   "source": [
    "with open(\"data/author_papers.txt\", 'r') as f:\n",
    "    data=f.readlines()"
   ]
  },
  {
   "cell_type": "code",
   "execution_count": null,
   "metadata": {},
   "outputs": [],
   "source": [
    "data2=[[x.split(':')[0], x.split(':')[1].split('\\n')[0].split('-')] for x in data]\n",
    "dict_papers=dict(data2)"
   ]
  },
  {
   "cell_type": "markdown",
   "metadata": {},
   "source": [
    "## IV) With text"
   ]
  },
  {
   "cell_type": "code",
   "execution_count": null,
   "metadata": {},
   "outputs": [],
   "source": [
    "import json"
   ]
  },
  {
   "cell_type": "code",
   "execution_count": null,
   "metadata": {},
   "outputs": [],
   "source": [
    "with open('Exploration/Vectors_and_clusters.json', 'r') as f:\n",
    "    data=json.load(f)"
   ]
  },
  {
   "cell_type": "code",
   "execution_count": null,
   "metadata": {},
   "outputs": [],
   "source": [
    "data['3603']"
   ]
  },
  {
   "cell_type": "code",
   "execution_count": null,
   "metadata": {},
   "outputs": [],
   "source": [
    "for author in dict_papers.keys():\n",
    "    print(author + \":\")\n",
    "    for paper in dict_papers.get(author):\n",
    "        print(paper)\n",
    "    print(\"\\n\")"
   ]
  },
  {
   "cell_type": "code",
   "execution_count": null,
   "metadata": {},
   "outputs": [],
   "source": []
  }
 ],
 "metadata": {
  "interpreter": {
   "hash": "287892eb55904b50337f16055d7cf7eaa1f5a3cda4903bb2a548d1e286ec920a"
  },
  "kernelspec": {
   "display_name": "Python 3.7.6 64-bit ('base': conda)",
   "name": "python3"
  },
  "language_info": {
   "codemirror_mode": {
    "name": "ipython",
    "version": 3
   },
   "file_extension": ".py",
   "mimetype": "text/x-python",
   "name": "python",
   "nbconvert_exporter": "python",
   "pygments_lexer": "ipython3",
   "version": "3.9.1"
  }
 },
 "nbformat": 4,
 "nbformat_minor": 2
}
