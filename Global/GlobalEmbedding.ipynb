{
 "cells": [
  {
   "cell_type": "markdown",
   "metadata": {},
   "source": [
    "### Generating Global embedding"
   ]
  },
  {
   "cell_type": "code",
   "execution_count": 1,
   "metadata": {},
   "outputs": [
    {
     "name": "stdout",
     "output_type": "stream",
     "text": [
      "Current directory : /users/eleves-a/2019/nathan.peluso/INF554/INF554_Kaggle_Project/Global, Project directory : /users/eleves-a/2019/nathan.peluso/INF554/INF554_Kaggle_Project\n"
     ]
    }
   ],
   "source": [
    "import numpy as np\n",
    "import networkx as nx\n",
    "\n",
    "import torch\n",
    "import torch.nn as nn\n",
    "import torch.optim as optim\n",
    "import torch.nn.functional as F\n",
    "from torch_geometric.nn import GCNConv\n",
    "from torch_geometric.datasets import Planetoid\n",
    "\n",
    "from gensim.models import Word2Vec\n",
    "\n",
    "from sklearn.manifold import TSNE\n",
    "from sklearn.decomposition import PCA\n",
    "from sklearn.metrics import accuracy_score\n",
    "import sklearn.linear_model as LinearModels\n",
    "\n",
    "import seaborn as sns\n",
    "import matplotlib.pyplot as plt\n",
    "\n",
    "import os\n",
    "import pandas as pd\n",
    "from tqdm import *\n",
    "from scipy import stats\n",
    "\n",
    "from pathlib import Path\n",
    "\n",
    "NathanPath=\"d:\\Documents\\Info\\INF554\\INF554_Kaggle_Project\"\n",
    "NathanPath=\"/users/eleves-a/2019/nathan.peluso/INF554/INF554_Kaggle_Project\"\n",
    "\n",
    "project_path = str(Path(os.getcwd()).parent.absolute())\n",
    "print(\"Current directory : \" + os.getcwd() + \", Project directory : \" + project_path)\n",
    "\n",
    "os.chdir(project_path)\n",
    "os.chdir(NathanPath)"
   ]
  },
  {
   "cell_type": "code",
   "execution_count": 56,
   "metadata": {},
   "outputs": [],
   "source": [
    "vectors=np.load(\"Global/paper_vectors.npy\")"
   ]
  },
  {
   "cell_type": "code",
   "execution_count": 57,
   "metadata": {},
   "outputs": [],
   "source": [
    "id_abstracts=vectors[:,0].astype(np.int64)"
   ]
  },
  {
   "cell_type": "code",
   "execution_count": 58,
   "metadata": {},
   "outputs": [
    {
     "name": "stdout",
     "output_type": "stream",
     "text": [
      "624181\n",
      "2908511069\n",
      "3603\n"
     ]
    }
   ],
   "source": [
    "print(len(id_abstracts))\n",
    "print(np.max(id_abstracts))\n",
    "print(np.min(id_abstracts))"
   ]
  },
  {
   "cell_type": "code",
   "execution_count": 59,
   "metadata": {},
   "outputs": [],
   "source": [
    "num_id_abstracts=dict([(a,b) for a,b in enumerate(id_abstracts)])\n",
    "id_abstracts_num=dict([(b,a) for a,b in enumerate(id_abstracts)])"
   ]
  },
  {
   "cell_type": "code",
   "execution_count": 65,
   "metadata": {},
   "outputs": [
    {
     "data": {
      "text/plain": [
       "624181"
      ]
     },
     "execution_count": 65,
     "metadata": {},
     "output_type": "execute_result"
    }
   ],
   "source": [
    "len(id_abstracts_num.keys())"
   ]
  },
  {
   "cell_type": "code",
   "execution_count": 60,
   "metadata": {},
   "outputs": [],
   "source": [
    "with open(\"data/author_papers.txt\") as f:\n",
    "    authors_papers=f.readlines()"
   ]
  },
  {
   "cell_type": "code",
   "execution_count": 61,
   "metadata": {},
   "outputs": [],
   "source": [
    "n_dim=vectors.shape[1]-1\n",
    "authors_vectors=np.zeros((len(authors_papers), n_dim+1), dtype=np.float64)"
   ]
  },
  {
   "cell_type": "code",
   "execution_count": 68,
   "metadata": {},
   "outputs": [
    {
     "name": "stdout",
     "output_type": "stream",
     "text": [
      "['1510273386', '1827736641', '1588673897', '2252711322', '2123653597']\n",
      "1510273386\n",
      "58046\n"
     ]
    }
   ],
   "source": [
    "papers=authors_papers[0].split(\"\\n\")[0].split(\":\")[1].split(\"-\")\n",
    "print(papers)\n",
    "p=papers[0]\n",
    "print(int(p))\n",
    "print(id_abstracts_num.get(int(p)))"
   ]
  },
  {
   "cell_type": "code",
   "execution_count": 78,
   "metadata": {},
   "outputs": [
    {
     "name": "stdout",
     "output_type": "stream",
     "text": [
      "1880\n"
     ]
    }
   ],
   "source": [
    "s=0\n",
    "for i,author in enumerate(authors_papers):\n",
    "    papers=author.split(\"\\n\")[0].split(\":\")[1].split(\"-\")\n",
    "    vector=np.zeros(n_dim)\n",
    "    no_fail=False\n",
    "    for p in papers:\n",
    "        try:\n",
    "            vector+=vectors[id_abstracts_num[int(p)], 1:]\n",
    "            no_fail=True\n",
    "        except KeyError:\n",
    "            pass\n",
    "    if (not no_fail):\n",
    "        s+=1\n",
    "    authors_vectors[i][0]=int(author.split(\":\")[0])\n",
    "    if (np.linalg.norm(vector)>0):\n",
    "        vector=vector/np.linalg.norm(vector)\n",
    "    authors_vectors[i][1:]=vector.copy()\n",
    "print(s)\n"
   ]
  },
  {
   "cell_type": "code",
   "execution_count": 79,
   "metadata": {},
   "outputs": [],
   "source": [
    "np.save(\"Global/authors_vectors.npy\", authors_vectors)"
   ]
  },
  {
   "cell_type": "markdown",
   "metadata": {},
   "source": [
    "## Concatenate"
   ]
  },
  {
   "cell_type": "code",
   "execution_count": 93,
   "metadata": {},
   "outputs": [],
   "source": [
    "embeddings_improved=np.load(\"DeepWalk/embeddings_improved.npy\")\n",
    "authors_vectors=np.load(\"Global/authors_vectors.npy\")\n",
    "G = nx.read_edgelist('data/coauthorship.edgelist', delimiter=' ', nodetype=int)"
   ]
  },
  {
   "cell_type": "code",
   "execution_count": 94,
   "metadata": {},
   "outputs": [
    {
     "name": "stdout",
     "output_type": "stream",
     "text": [
      "(217801, 133)\n",
      "(217801, 151)\n"
     ]
    }
   ],
   "source": [
    "print(embeddings_improved.shape)\n",
    "print(authors_vectors.shape)\n",
    "\n",
    "num_id_author=dict([(a,b) for a,b in enumerate(authors_vectors[:,0])])\n",
    "id_author_num=dict([(b,a) for a,b in enumerate(authors_vectors[:,0])])\n",
    "\n",
    "num_nodeID=dict([(a,b) for a,b in enumerate(G.nodes)])\n",
    "node_ID_num=dict([(b,a) for a,b in enumerate(G.nodes)])"
   ]
  },
  {
   "cell_type": "code",
   "execution_count": 96,
   "metadata": {},
   "outputs": [],
   "source": [
    "n_lines=len(G.nodes)\n",
    "n_dim_tot=133+151\n",
    "n_emb=embeddings_improved.shape[1]\n",
    "n_abs=authors_vectors.shape[1]-1\n",
    "full_matrix=np.zeros((n_lines, n_dim_tot), dtype=np.float64)\n",
    "for i in range(n_lines):\n",
    "    node=num_nodeID[i]\n",
    "    full_matrix[i,0]=node\n",
    "    full_matrix[i,1:1+n_emb]=embeddings_improved[i].copy()\n",
    "    full_matrix[i,1+n_emb:]=authors_vectors[id_author_num[node],1:].copy()\n",
    "\n"
   ]
  },
  {
   "cell_type": "code",
   "execution_count": 99,
   "metadata": {},
   "outputs": [],
   "source": [
    "np.save(\"Global/full_embedding_matrix.npy\", full_matrix)"
   ]
  },
  {
   "cell_type": "code",
   "execution_count": 100,
   "metadata": {},
   "outputs": [
    {
     "data": {
      "text/plain": [
       "(217801, 284)"
      ]
     },
     "execution_count": 100,
     "metadata": {},
     "output_type": "execute_result"
    }
   ],
   "source": [
    "full_matrix.shape"
   ]
  },
  {
   "cell_type": "markdown",
   "metadata": {},
   "source": [
    "## MLP"
   ]
  },
  {
   "cell_type": "code",
   "execution_count": null,
   "metadata": {},
   "outputs": [],
   "source": []
  },
  {
   "cell_type": "markdown",
   "metadata": {},
   "source": [
    "## MLP Submission\n"
   ]
  },
  {
   "cell_type": "code",
   "execution_count": null,
   "metadata": {},
   "outputs": [],
   "source": []
  }
 ],
 "metadata": {
  "interpreter": {
   "hash": "571ac4587ae4eeb6b02353bd76aeaaf0ceca15cf49d684242a7eb1fb5d42efb7"
  },
  "kernelspec": {
   "display_name": "Python 3.6.8 64-bit ('myEnv': venv)",
   "language": "python",
   "name": "python3"
  },
  "language_info": {
   "codemirror_mode": {
    "name": "ipython",
    "version": 3
   },
   "file_extension": ".py",
   "mimetype": "text/x-python",
   "name": "python",
   "nbconvert_exporter": "python",
   "pygments_lexer": "ipython3",
   "version": "3.6.8"
  },
  "orig_nbformat": 4
 },
 "nbformat": 4,
 "nbformat_minor": 2
}
