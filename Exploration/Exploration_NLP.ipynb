{
 "cells": [
  {
   "cell_type": "code",
   "execution_count": 1,
   "metadata": {},
   "outputs": [
    {
     "name": "stdout",
     "output_type": "stream",
     "text": [
      "/Users/maximebonnin/Notebooks/3A_Notebook/INF554/INF554_Kaggle_Project\n"
     ]
    }
   ],
   "source": [
    "import os, json\n",
    "from pathlib import Path\n",
    "\n",
    "project_path = str(Path(os.getcwd()).parent.absolute())\n",
    "print(project_path)\n",
    "os.chdir(project_path)"
   ]
  },
  {
   "cell_type": "code",
   "execution_count": 6,
   "metadata": {},
   "outputs": [],
   "source": [
    "import numpy as np\n",
    "from nltk.tokenize import sent_tokenize, word_tokenize\n",
    "import gensim\n",
    "from gensim.models import Word2Vec\n",
    "import re\n",
    "import string\n",
    "from tqdm.notebook import tqdm\n",
    "import nltk\n",
    "from nltk.corpus import stopwords\n",
    "import pandas as pd"
   ]
  },
  {
   "cell_type": "code",
   "execution_count": 10,
   "metadata": {},
   "outputs": [],
   "source": [
    "from NLP.utils import (\n",
    "    get_id,\n",
    "    get_json,\n",
    "    get_descritpion,\n",
    "    vectorize,\n",
    "    clean_text\n",
    ")"
   ]
  },
  {
   "cell_type": "code",
   "execution_count": 4,
   "metadata": {},
   "outputs": [
    {
     "name": "stderr",
     "output_type": "stream",
     "text": [
      "[nltk_data] Downloading package stopwords to\n",
      "[nltk_data]     /Users/maximebonnin/nltk_data...\n",
      "[nltk_data]   Package stopwords is already up-to-date!\n"
     ]
    },
    {
     "data": {
      "text/plain": [
       "True"
      ]
     },
     "execution_count": 4,
     "metadata": {},
     "output_type": "execute_result"
    }
   ],
   "source": [
    "nltk.download('stopwords')"
   ]
  },
  {
   "cell_type": "code",
   "execution_count": 5,
   "metadata": {},
   "outputs": [],
   "source": [
    "with open(\"data/abstracts.txt\") as file:\n",
    "    texts = file.readlines()"
   ]
  },
  {
   "cell_type": "code",
   "execution_count": 13,
   "metadata": {},
   "outputs": [],
   "source": [
    "import gensim.downloader\n",
    "model = gensim.downloader.load('glove-wiki-gigaword-200')"
   ]
  },
  {
   "cell_type": "code",
   "execution_count": 14,
   "metadata": {},
   "outputs": [
    {
     "name": "stdout",
     "output_type": "stream",
     "text": [
      "<gensim.models.keyedvectors.KeyedVectors object at 0x13758c080>\n",
      "<class 'gensim.models.keyedvectors.KeyedVectors'>\n"
     ]
    }
   ],
   "source": [
    "print(model)\n",
    "print(type(model))"
   ]
  },
  {
   "cell_type": "code",
   "execution_count": 7,
   "metadata": {},
   "outputs": [
    {
     "data": {
      "text/plain": [
       "<gensim.models.keyedvectors.Word2VecKeyedVectors at 0x7fc379c940d0>"
      ]
     },
     "execution_count": 7,
     "metadata": {},
     "output_type": "execute_result"
    }
   ],
   "source": [
    "gensim.models.keyedvectors.KeyedVectors.load_word2vec_format(\"data/glove_model.txt\")"
   ]
  },
  {
   "cell_type": "code",
   "execution_count": 14,
   "metadata": {},
   "outputs": [],
   "source": [
    "from gensim.test.utils import datapath\n",
    "from gensim import utils\n",
    "\n",
    "#with open(\"data/abstracts.txt\") as file:\n",
    "    #texts = file.readlines()\n",
    "\n",
    "tokenizer = word_tokenize\n",
    "stpwds = stopwords.words(\"english\")\n",
    "\n",
    "class MyCorpus:\n",
    "    \"\"\"An iterator that yields sentences (lists of str).\"\"\"\n",
    "\n",
    "    def __iter__(self):\n",
    "        corpus_path = texts\n",
    "        for line in open(corpus_path):\n",
    "            # assume there's one document per line, tokens separated by whitespace\n",
    "            yield utils.simple_preprocess(line)"
   ]
  },
  {
   "cell_type": "code",
   "execution_count": 21,
   "metadata": {},
   "outputs": [
    {
     "name": "stdout",
     "output_type": "stream",
     "text": [
      "[['paper'], ['describe'], ['new'], ['bitmap'], ['indexing'], ['technique'], ['cluster'], ['xml'], ['documents'], ['xml'], ['new'], ['standard'], ['exchanging'], ['representing'], ['information'], ['internet'], ['documents'], ['hierarchically'], ['represented'], ['xmlelements'], ['xml'], ['documents'], ['represented'], ['indexed'], ['using'], ['bitmap'], ['indexing'], ['technique'], ['define'], ['similarity'], ['popularity'], ['operations'], ['available'], ['bitmap'], ['indexes'], ['propose'], ['method'], ['partitioning'], ['xml'], ['document'], ['set'], ['furthermore'], ['2dimensional'], ['bitmap'], ['index'], ['extended'], ['3dimensional'], ['bitmap'], ['index'], ['called'], ['bitcube'], ['define'], ['statistical'], ['measurements'], ['bitcube'], ['mean'], ['mode'], ['standard'], ['derivation'], ['correlation'], ['coefficient'], ['based'], ['measurements'], ['also'], ['define'], ['slice'], ['project'], ['dice'], ['operations'], ['bitcube'], ['bitcube'], ['manipulated'], ['efficiently'], ['improves'], ['performance'], ['document'], ['retrieval']]\n"
     ]
    }
   ],
   "source": [
    "line = []\n",
    "for word in get_descritpion(texts[0]):\n",
    "    clean_word = clean_text(word, tokenizer, stpwds)\n",
    "    if len(clean_word)!=0:\n",
    "        line.append(clean_word)\n",
    "\n",
    "print(line)"
   ]
  },
  {
   "cell_type": "code",
   "execution_count": null,
   "metadata": {},
   "outputs": [],
   "source": []
  }
 ],
 "metadata": {
  "interpreter": {
   "hash": "aee8b7b246df8f9039afb4144a1f6fd8d2ca17a180786b69acc140d282b71a49"
  },
  "kernelspec": {
   "display_name": "Python 3.6.2 64-bit",
   "language": "python",
   "name": "python3"
  },
  "language_info": {
   "codemirror_mode": {
    "name": "ipython",
    "version": 3
   },
   "file_extension": ".py",
   "mimetype": "text/x-python",
   "name": "python",
   "nbconvert_exporter": "python",
   "pygments_lexer": "ipython3",
   "version": "3.7.6"
  },
  "orig_nbformat": 4
 },
 "nbformat": 4,
 "nbformat_minor": 2
}
